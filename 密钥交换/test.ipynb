{
 "cells": [
  {
   "cell_type": "code",
   "execution_count": 1,
   "metadata": {},
   "outputs": [],
   "source": [
    "def to_bin(value, num):#十进制数据，二进制位宽\n",
    "\tbin_chars = \"\"\n",
    "\ttemp = value\n",
    "\tfor i in range(num):\n",
    "\t\tbin_char = bin(temp % 2)[-1]\n",
    "\t\ttemp = temp // 2\n",
    "\t\tbin_chars = bin_char + bin_chars\n",
    "\treturn bin_chars.upper()#输出指定位宽的二进制字符串"
   ]
  },
  {
   "cell_type": "code",
   "execution_count": 4,
   "metadata": {},
   "outputs": [
    {
     "name": "stdout",
     "output_type": "stream",
     "text": [
      "0010111111001000\n"
     ]
    }
   ],
   "source": [
    "print(to_bin(12232,16))"
   ]
  },
  {
   "cell_type": "code",
   "execution_count": 6,
   "metadata": {},
   "outputs": [
    {
     "name": "stdout",
     "output_type": "stream",
     "text": [
      "97\n",
      "a\n"
     ]
    }
   ],
   "source": [
    "print(ord('a'))\n",
    "print(chr(97))"
   ]
  },
  {
   "cell_type": "code",
   "execution_count": 12,
   "metadata": {},
   "outputs": [
    {
     "name": "stdout",
     "output_type": "stream",
     "text": [
      "False\n"
     ]
    }
   ],
   "source": [
    "d = 'Puzzles'\n",
    "print(d[0:6]=='Puzzle')"
   ]
  },
  {
   "cell_type": "code",
   "execution_count": 14,
   "metadata": {},
   "outputs": [
    {
     "name": "stdout",
     "output_type": "stream",
     "text": [
      "y\n"
     ]
    }
   ],
   "source": [
    "d = 'Puzzles:x+y'\n",
    "print(d.split('+')[-1])"
   ]
  }
 ],
 "metadata": {
  "interpreter": {
   "hash": "1f14ea3905f811c5dc867a5bd7a785ecd2b03a32bdcbcba0902e8c5a93d2285c"
  },
  "kernelspec": {
   "display_name": "Python 3.7.9 ('pytorch2021')",
   "language": "python",
   "name": "python3"
  },
  "language_info": {
   "codemirror_mode": {
    "name": "ipython",
    "version": 3
   },
   "file_extension": ".py",
   "mimetype": "text/x-python",
   "name": "python",
   "nbconvert_exporter": "python",
   "pygments_lexer": "ipython3",
   "version": "3.7.9"
  },
  "orig_nbformat": 4
 },
 "nbformat": 4,
 "nbformat_minor": 2
}
