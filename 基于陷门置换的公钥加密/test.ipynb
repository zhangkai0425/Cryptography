{
 "cells": [
  {
   "cell_type": "code",
   "execution_count": 1,
   "metadata": {},
   "outputs": [],
   "source": [
    "def extendedGCD(a, b):\n",
    "    # 拓展欧几里得算法\n",
    "    #a*xi + b*yi = ri\n",
    "    if b == 0:\n",
    "        return (1, 0, a)\n",
    "    #a*x1 + b*y1 = a\n",
    "    x1 = 1\n",
    "    y1 = 0\n",
    "    #a*x2 + b*y2 = b\n",
    "    x2 = 0\n",
    "    y2 = 1\n",
    "    # 修复bug:辗转相除法有问题\n",
    "    while b != 0:\n",
    "        q = a // b\n",
    "        #ri = r(i-2) % r(i-1)\n",
    "        r = a % b\n",
    "        a = b\n",
    "        b = r\n",
    "        #xi = x(i-2) - q*x(i-1)\n",
    "        x = x1 - q*x2\n",
    "        x1 = x2\n",
    "        x2 = x\n",
    "        #yi = y(i-2) - q*y(i-1)\n",
    "        y = y1 - q*y2\n",
    "        y1 = y2\n",
    "        y2 = y\n",
    "    return(x1, y1, a)"
   ]
  },
  {
   "cell_type": "code",
   "execution_count": 4,
   "metadata": {},
   "outputs": [
    {
     "name": "stdout",
     "output_type": "stream",
     "text": [
      "(1, -437, 1)\n"
     ]
    }
   ],
   "source": [
    "print(extendedGCD(3060,7))"
   ]
  }
 ],
 "metadata": {
  "interpreter": {
   "hash": "1f14ea3905f811c5dc867a5bd7a785ecd2b03a32bdcbcba0902e8c5a93d2285c"
  },
  "kernelspec": {
   "display_name": "Python 3.7.9 ('pytorch2021')",
   "language": "python",
   "name": "python3"
  },
  "language_info": {
   "codemirror_mode": {
    "name": "ipython",
    "version": 3
   },
   "file_extension": ".py",
   "mimetype": "text/x-python",
   "name": "python",
   "nbconvert_exporter": "python",
   "pygments_lexer": "ipython3",
   "version": "3.7.9"
  },
  "orig_nbformat": 4
 },
 "nbformat": 4,
 "nbformat_minor": 2
}
